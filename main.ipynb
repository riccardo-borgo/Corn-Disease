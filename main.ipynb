{
 "cells": [
  {
   "cell_type": "code",
   "execution_count": 5,
   "metadata": {},
   "outputs": [],
   "source": [
    "import pandas as pd\n",
    "import numpy as np\n",
    "import matplotlib.pyplot as plt\n",
    "from PIL import Image, ImageDraw\n",
    "import os"
   ]
  },
  {
   "cell_type": "code",
   "execution_count": 20,
   "metadata": {},
   "outputs": [],
   "source": [
    "def create_data():\n",
    "    images = []\n",
    "    final = []\n",
    "    label = []\n",
    "    name = ['Blight', 'Common_Rust', 'Gray_Leaf_Spot', 'Healthy']\n",
    "    for dis in name:\n",
    "        folder_path = 'Corn Images/' + dis\n",
    "        for filename in os.listdir(folder_path):\n",
    "            img_path = os.path.join(folder_path, filename)\n",
    "            img = Image.open(img_path)\n",
    "            images.append(img)\n",
    "            label.append(dis)\n",
    "    final.append(images)\n",
    "    final.append(label)\n",
    "    return final"
   ]
  },
  {
   "cell_type": "code",
   "execution_count": 21,
   "metadata": {},
   "outputs": [],
   "source": [
    "result = create_data()\n",
    "dataset = pd.DataFrame({'Images': result[0], 'Label': result[1]})"
   ]
  },
  {
   "cell_type": "code",
   "execution_count": 24,
   "metadata": {},
   "outputs": [
    {
     "name": "stdout",
     "output_type": "stream",
     "text": [
      "Images    1146\n",
      "Label     1146\n",
      "dtype: int64\n",
      "Images    1306\n",
      "Label     1306\n",
      "dtype: int64\n",
      "Images    574\n",
      "Label     574\n",
      "dtype: int64\n",
      "Images    1162\n",
      "Label     1162\n",
      "dtype: int64\n"
     ]
    }
   ],
   "source": [
    "print(dataset[dataset['Label'] == 'Blight'].count())\n",
    "print(dataset[dataset['Label'] == 'Common_Rust'].count())\n",
    "print(dataset[dataset['Label'] == 'Gray_Leaf_Spot'].count())\n",
    "print(dataset[dataset['Label'] == 'Healthy'].count())"
   ]
  }
 ],
 "metadata": {
  "kernelspec": {
   "display_name": "python_3112",
   "language": "python",
   "name": "python3"
  },
  "language_info": {
   "codemirror_mode": {
    "name": "ipython",
    "version": 3
   },
   "file_extension": ".py",
   "mimetype": "text/x-python",
   "name": "python",
   "nbconvert_exporter": "python",
   "pygments_lexer": "ipython3",
   "version": "3.11.5"
  }
 },
 "nbformat": 4,
 "nbformat_minor": 2
}
